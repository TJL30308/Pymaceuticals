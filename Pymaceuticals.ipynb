{
 "cells": [
  {
   "cell_type": "code",
   "execution_count": 1,
   "metadata": {},
   "outputs": [],
   "source": [
    "# Summary of Findings\n",
    "\n",
    "## The four most promising drug regimes had the least amount of variation in the data when \n",
    "## looking at summary statistics such as SEM, variance, and standard deviation. Addionally, \n",
    "## these drug regimens had the lowest tumor volume mean over the entire study period. \n",
    "\n",
    "## Based on the analysis of the four most promising regimens, Capomulin and Ramicane, offer the greatest\n",
    "## promise in reucing tumor volume size. However, these should be compared to the placebo to see the relative \n",
    "## effect of the treatment to draw more significant conclusions.\n",
    "\n",
    "## Capomulin regime on mouse s185 seemed to be succesful. The tumor volume shrunk over the course of the study \n",
    "## time period and the mouse did not die earler than 45 days, the conclusion of the study period.\n"
   ]
  },
  {
   "cell_type": "code",
   "execution_count": 2,
   "metadata": {},
   "outputs": [],
   "source": [
    "# import dependencies\n",
    "import matplotlib.pyplot as plt\n",
    "import pandas as pd\n",
    "import scipy.stats as st\n",
    "import numpy as np\n",
    "\n",
    "# Study data files\n",
    "mouse_metadata = \"data/Mouse_metadata.csv\"\n",
    "study_results = \"data/Study_results.csv\"\n",
    "\n",
    "# Read the mouse data and the study results\n",
    "mouse_metadata = pd.read_csv(mouse_metadata)\n",
    "study_results = pd.read_csv(study_results)"
   ]
  },
  {
   "cell_type": "code",
   "execution_count": 3,
   "metadata": {},
   "outputs": [
    {
     "data": {
      "text/html": [
       "<div>\n",
       "<style scoped>\n",
       "    .dataframe tbody tr th:only-of-type {\n",
       "        vertical-align: middle;\n",
       "    }\n",
       "\n",
       "    .dataframe tbody tr th {\n",
       "        vertical-align: top;\n",
       "    }\n",
       "\n",
       "    .dataframe thead th {\n",
       "        text-align: right;\n",
       "    }\n",
       "</style>\n",
       "<table border=\"1\" class=\"dataframe\">\n",
       "  <thead>\n",
       "    <tr style=\"text-align: right;\">\n",
       "      <th></th>\n",
       "      <th>Mouse ID</th>\n",
       "      <th>Drug Regimen</th>\n",
       "      <th>Sex</th>\n",
       "      <th>Age_months</th>\n",
       "      <th>Weight (g)</th>\n",
       "      <th>Timepoint</th>\n",
       "      <th>Tumor Volume (mm3)</th>\n",
       "      <th>Metastatic Sites</th>\n",
       "    </tr>\n",
       "  </thead>\n",
       "  <tbody>\n",
       "    <tr>\n",
       "      <th>0</th>\n",
       "      <td>k403</td>\n",
       "      <td>Ramicane</td>\n",
       "      <td>Male</td>\n",
       "      <td>21</td>\n",
       "      <td>16</td>\n",
       "      <td>0</td>\n",
       "      <td>45.000000</td>\n",
       "      <td>0</td>\n",
       "    </tr>\n",
       "    <tr>\n",
       "      <th>1</th>\n",
       "      <td>k403</td>\n",
       "      <td>Ramicane</td>\n",
       "      <td>Male</td>\n",
       "      <td>21</td>\n",
       "      <td>16</td>\n",
       "      <td>5</td>\n",
       "      <td>38.825898</td>\n",
       "      <td>0</td>\n",
       "    </tr>\n",
       "    <tr>\n",
       "      <th>2</th>\n",
       "      <td>k403</td>\n",
       "      <td>Ramicane</td>\n",
       "      <td>Male</td>\n",
       "      <td>21</td>\n",
       "      <td>16</td>\n",
       "      <td>10</td>\n",
       "      <td>35.014271</td>\n",
       "      <td>1</td>\n",
       "    </tr>\n",
       "    <tr>\n",
       "      <th>3</th>\n",
       "      <td>k403</td>\n",
       "      <td>Ramicane</td>\n",
       "      <td>Male</td>\n",
       "      <td>21</td>\n",
       "      <td>16</td>\n",
       "      <td>15</td>\n",
       "      <td>34.223992</td>\n",
       "      <td>1</td>\n",
       "    </tr>\n",
       "    <tr>\n",
       "      <th>4</th>\n",
       "      <td>k403</td>\n",
       "      <td>Ramicane</td>\n",
       "      <td>Male</td>\n",
       "      <td>21</td>\n",
       "      <td>16</td>\n",
       "      <td>20</td>\n",
       "      <td>32.997729</td>\n",
       "      <td>1</td>\n",
       "    </tr>\n",
       "  </tbody>\n",
       "</table>\n",
       "</div>"
      ],
      "text/plain": [
       "  Mouse ID Drug Regimen   Sex  Age_months  Weight (g)  Timepoint  \\\n",
       "0     k403     Ramicane  Male          21          16          0   \n",
       "1     k403     Ramicane  Male          21          16          5   \n",
       "2     k403     Ramicane  Male          21          16         10   \n",
       "3     k403     Ramicane  Male          21          16         15   \n",
       "4     k403     Ramicane  Male          21          16         20   \n",
       "\n",
       "   Tumor Volume (mm3)  Metastatic Sites  \n",
       "0           45.000000                 0  \n",
       "1           38.825898                 0  \n",
       "2           35.014271                 1  \n",
       "3           34.223992                 1  \n",
       "4           32.997729                 1  "
      ]
     },
     "execution_count": 3,
     "metadata": {},
     "output_type": "execute_result"
    }
   ],
   "source": [
    "# Combine the data into a single dataset\n",
    "\n",
    "# merge on mouse ID\n",
    "total_data = pd.merge(mouse_metadata, study_results, on = \"Mouse ID\", how = \"outer\")\n",
    "total_data.head()"
   ]
  },
  {
   "cell_type": "code",
   "execution_count": 4,
   "metadata": {},
   "outputs": [
    {
     "data": {
      "text/html": [
       "<div>\n",
       "<style scoped>\n",
       "    .dataframe tbody tr th:only-of-type {\n",
       "        vertical-align: middle;\n",
       "    }\n",
       "\n",
       "    .dataframe tbody tr th {\n",
       "        vertical-align: top;\n",
       "    }\n",
       "\n",
       "    .dataframe thead th {\n",
       "        text-align: right;\n",
       "    }\n",
       "</style>\n",
       "<table border=\"1\" class=\"dataframe\">\n",
       "  <thead>\n",
       "    <tr style=\"text-align: right;\">\n",
       "      <th></th>\n",
       "      <th>Tumor Volume Mean</th>\n",
       "      <th>Tumor Volume Median</th>\n",
       "      <th>Tumor Volume Variance</th>\n",
       "      <th>Tumor Volume STD</th>\n",
       "      <th>Tumor Volume SEM</th>\n",
       "    </tr>\n",
       "    <tr>\n",
       "      <th>Drug Regimen</th>\n",
       "      <th></th>\n",
       "      <th></th>\n",
       "      <th></th>\n",
       "      <th></th>\n",
       "      <th></th>\n",
       "    </tr>\n",
       "  </thead>\n",
       "  <tbody>\n",
       "    <tr>\n",
       "      <th>Capomulin</th>\n",
       "      <td>40.675741</td>\n",
       "      <td>41.557809</td>\n",
       "      <td>24.947764</td>\n",
       "      <td>4.994774</td>\n",
       "      <td>0.329346</td>\n",
       "    </tr>\n",
       "    <tr>\n",
       "      <th>Ceftamin</th>\n",
       "      <td>52.591172</td>\n",
       "      <td>51.776157</td>\n",
       "      <td>39.290177</td>\n",
       "      <td>6.268188</td>\n",
       "      <td>0.469821</td>\n",
       "    </tr>\n",
       "    <tr>\n",
       "      <th>Infubinol</th>\n",
       "      <td>52.884795</td>\n",
       "      <td>51.820584</td>\n",
       "      <td>43.128684</td>\n",
       "      <td>6.567243</td>\n",
       "      <td>0.492236</td>\n",
       "    </tr>\n",
       "    <tr>\n",
       "      <th>Ketapril</th>\n",
       "      <td>55.235638</td>\n",
       "      <td>53.698743</td>\n",
       "      <td>68.553577</td>\n",
       "      <td>8.279709</td>\n",
       "      <td>0.603860</td>\n",
       "    </tr>\n",
       "    <tr>\n",
       "      <th>Naftisol</th>\n",
       "      <td>54.331565</td>\n",
       "      <td>52.509285</td>\n",
       "      <td>66.173479</td>\n",
       "      <td>8.134708</td>\n",
       "      <td>0.596466</td>\n",
       "    </tr>\n",
       "    <tr>\n",
       "      <th>Placebo</th>\n",
       "      <td>54.033581</td>\n",
       "      <td>52.288934</td>\n",
       "      <td>61.168083</td>\n",
       "      <td>7.821003</td>\n",
       "      <td>0.581331</td>\n",
       "    </tr>\n",
       "    <tr>\n",
       "      <th>Propriva</th>\n",
       "      <td>52.322552</td>\n",
       "      <td>50.854632</td>\n",
       "      <td>42.351070</td>\n",
       "      <td>6.507770</td>\n",
       "      <td>0.512884</td>\n",
       "    </tr>\n",
       "    <tr>\n",
       "      <th>Ramicane</th>\n",
       "      <td>40.216745</td>\n",
       "      <td>40.673236</td>\n",
       "      <td>23.486704</td>\n",
       "      <td>4.846308</td>\n",
       "      <td>0.320955</td>\n",
       "    </tr>\n",
       "    <tr>\n",
       "      <th>Stelasyn</th>\n",
       "      <td>54.233149</td>\n",
       "      <td>52.431737</td>\n",
       "      <td>59.450562</td>\n",
       "      <td>7.710419</td>\n",
       "      <td>0.573111</td>\n",
       "    </tr>\n",
       "    <tr>\n",
       "      <th>Zoniferol</th>\n",
       "      <td>53.236507</td>\n",
       "      <td>51.818479</td>\n",
       "      <td>48.533355</td>\n",
       "      <td>6.966589</td>\n",
       "      <td>0.516398</td>\n",
       "    </tr>\n",
       "  </tbody>\n",
       "</table>\n",
       "</div>"
      ],
      "text/plain": [
       "              Tumor Volume Mean  Tumor Volume Median  Tumor Volume Variance  \\\n",
       "Drug Regimen                                                                  \n",
       "Capomulin             40.675741            41.557809              24.947764   \n",
       "Ceftamin              52.591172            51.776157              39.290177   \n",
       "Infubinol             52.884795            51.820584              43.128684   \n",
       "Ketapril              55.235638            53.698743              68.553577   \n",
       "Naftisol              54.331565            52.509285              66.173479   \n",
       "Placebo               54.033581            52.288934              61.168083   \n",
       "Propriva              52.322552            50.854632              42.351070   \n",
       "Ramicane              40.216745            40.673236              23.486704   \n",
       "Stelasyn              54.233149            52.431737              59.450562   \n",
       "Zoniferol             53.236507            51.818479              48.533355   \n",
       "\n",
       "              Tumor Volume STD  Tumor Volume SEM  \n",
       "Drug Regimen                                      \n",
       "Capomulin             4.994774          0.329346  \n",
       "Ceftamin              6.268188          0.469821  \n",
       "Infubinol             6.567243          0.492236  \n",
       "Ketapril              8.279709          0.603860  \n",
       "Naftisol              8.134708          0.596466  \n",
       "Placebo               7.821003          0.581331  \n",
       "Propriva              6.507770          0.512884  \n",
       "Ramicane              4.846308          0.320955  \n",
       "Stelasyn              7.710419          0.573111  \n",
       "Zoniferol             6.966589          0.516398  "
      ]
     },
     "execution_count": 4,
     "metadata": {},
     "output_type": "execute_result"
    }
   ],
   "source": [
    "# Generate a summary statistics table of mean, median, variance, standard deviation, and SEM of the tumor volume for each regimen\n",
    "\n",
    "regimen = total_data.groupby(\"Drug Regimen\")\n",
    "\n",
    "# calculate summary statistics of tumor volume for each drug regimen\n",
    "tumor_volume = regimen[\"Tumor Volume (mm3)\"]\n",
    "tumor_volume_mean = tumor_volume.mean()\n",
    "tumor_volume_median = tumor_volume.median()\n",
    "tumor_volume_variance = tumor_volume.var()\n",
    "tumor_volume_std = tumor_volume.std()\n",
    "tumor_volume_sem = tumor_volume.sem()\n",
    "\n",
    "# create summary data frame\n",
    "regimen_summary_df = pd.DataFrame({\"Tumor Volume Mean\" : tumor_volume_mean,\n",
    "                                \"Tumor Volume Median\": tumor_volume_median,\n",
    "                                \"Tumor Volume Variance\" : tumor_volume_variance,\n",
    "                                \"Tumor Volume STD\" : tumor_volume_std,\n",
    "                                \"Tumor Volume SEM\" : tumor_volume_sem})\n",
    "\n",
    "regimen_summary_df"
   ]
  },
  {
   "cell_type": "code",
   "execution_count": 5,
   "metadata": {},
   "outputs": [
    {
     "data": {
      "text/plain": [
       "Text(0, 0.5, 'Number of Data Points')"
      ]
     },
     "execution_count": 5,
     "metadata": {},
     "output_type": "execute_result"
    },
    {
     "data": {
      "image/png": "[encoded data removed]",
      "text/plain": [
       "<Figure size 432x288 with 1 Axes>"
      ]
     },
     "metadata": {
      "needs_background": "light"
     },
     "output_type": "display_data"
    }
   ],
   "source": [
    "# Generate a bar plot showing number of data points for each treatment regimen using pandas\n",
    "regimen_count = regimen.count()\n",
    "title = \"Number of Data Points per Treatment Regimen\"\n",
    "ax = regimen_count[\"Mouse ID\"].plot(kind='bar', color = 'b', alpha = 0.5, width=0.75, title = title)\n",
    "ax.set_ylabel(\"Number of Data Points\")"
   ]
  },
  {
   "cell_type": "code",
   "execution_count": 6,
   "metadata": {},
   "outputs": [
    {
     "data": {
      "image/png": "[encoded data removed]",
      "text/plain": [
       "<Figure size 432x288 with 1 Axes>"
      ]
     },
     "metadata": {
      "needs_background": "light"
     },
     "output_type": "display_data"
    }
   ],
   "source": [
    "# Generate a bar plot showing number of data points for each treatment regimen using pyplot\n",
    "y_axis = regimen_count[\"Mouse ID\"]\n",
    "x_axis = regimen_count.index\n",
    "plt.title(\"Number of Data Points per Treatment Regimen\")\n",
    "plt.xlabel(\"Drug Regimen\")\n",
    "plt.ylabel(\"Number of Data Points\")\n",
    "plt.xticks(rotation=90)\n",
    "plt.bar(x_axis, y_axis, color=\"b\", alpha = 0.5, width=0.75, align=\"center\")\n",
    "plt.show()"
   ]
  },
  {
   "cell_type": "code",
   "execution_count": 7,
   "metadata": {},
   "outputs": [
    {
     "data": {
      "text/plain": [
       "Text(0, 0.5, '')"
      ]
     },
     "execution_count": 7,
     "metadata": {},
     "output_type": "execute_result"
    },
    {
     "data": {
      "image/png": "[encoded data removed]",
      "text/plain": [
       "<Figure size 432x288 with 1 Axes>"
      ]
     },
     "metadata": {},
     "output_type": "display_data"
    }
   ],
   "source": [
    "# Generate a pie plot showing the distribution of female versus male mice using pandas\n",
    "mouse_data = total_data.drop_duplicates(\"Mouse ID\")\n",
    "\n",
    "male_count = mouse_data[\"Sex\"].value_counts()[\"Male\"]\n",
    "female_count = mouse_data[\"Sex\"].value_counts()[\"Female\"]\n",
    "\n",
    "mouse_sex_data_df = pd.DataFrame({\"Sex Count\" : [male_count, female_count]})\n",
    "\n",
    "labels = [\"Male\" , \"Female\"]\n",
    "colors = [\"blue\", \"red\"]\n",
    "title = \"Mice Distribution by Sex\"\n",
    "ax = mouse_sex_data_df.plot(y = 'Sex Count', kind = \"pie\", labels = labels, title = title, legend = False, \n",
    "                            colors = colors, autopct=\"%1.1f%%\", startangle=140)\n",
    "ax.set_ylabel('')"
   ]
  },
  {
   "cell_type": "code",
   "execution_count": 8,
   "metadata": {},
   "outputs": [
    {
     "data": {
      "image/png": "[encoded data removed]",
      "text/plain": [
       "<Figure size 432x288 with 1 Axes>"
      ]
     },
     "metadata": {},
     "output_type": "display_data"
    }
   ],
   "source": [
    "# Generate a pie plot showing the distribution of female versus male mice using pyplot\n",
    "plt.pie(mouse_sex_data_df[\"Sex Count\"], labels=labels, colors=colors,\n",
    "                autopct=\"%1.1f%%\", shadow=False, startangle=140)\n",
    "plt.title(title)\n",
    "plt.show()"
   ]
  },
  {
   "cell_type": "code",
   "execution_count": 9,
   "metadata": {},
   "outputs": [],
   "source": [
    "# Calculate the final tumor volume of each mouse across four of the most promising treatment regimens. Capomulin, Ramicane, Infubinol, and Ceftamin"
   ]
  },
  {
   "cell_type": "code",
   "execution_count": 10,
   "metadata": {},
   "outputs": [
    {
     "name": "stdout",
     "output_type": "stream",
     "text": [
      "Capomulin\n",
      "Values below 32.37735684 could be outliers.\n",
      "Values above 40.1592203 could be outliers.\n"
     ]
    }
   ],
   "source": [
    "# Capomulin Final Volumes\n",
    "\n",
    "capomulin_regimen = total_data[total_data[\"Drug Regimen\"].isin([\"Capomulin\"])]\n",
    "capomulin_sorted = capomulin_regimen.sort_values(by=['Timepoint'], ascending = False)\n",
    "capomulin_group = capomulin_sorted.groupby('Mouse ID')\n",
    "final_capomulin_volumes = capomulin_group['Tumor Volume (mm3)'].first()\n",
    "\n",
    "# Capomulin IQR\n",
    "\n",
    "quartiles_capomulin = final_capomulin_volumes.quantile([.25,.5,.75])\n",
    "lowerq_capomulin = quartiles_capomulin[0.25]\n",
    "upperq_capomulin = quartiles_capomulin[0.75]\n",
    "iqr_ramicane = upperq_capomulin - lowerq_capomulin\n",
    "\n",
    "print('Capomulin')\n",
    "print(f\"Values below {lowerq_capomulin} could be outliers.\")\n",
    "print(f\"Values above {upperq_capomulin} could be outliers.\")"
   ]
  },
  {
   "cell_type": "code",
   "execution_count": 11,
   "metadata": {},
   "outputs": [
    {
     "name": "stdout",
     "output_type": "stream",
     "text": [
      "Ramicane\n",
      "Values below 31.56046955 could be outliers.\n",
      "Values above 40.65900627 could be outliers.\n"
     ]
    }
   ],
   "source": [
    "# Ramicane Final Volumes\n",
    "\n",
    "ramicane_regimen = total_data[total_data[\"Drug Regimen\"].isin([\"Ramicane\"])]\n",
    "ramicane_sorted = ramicane_regimen.sort_values(by=['Timepoint'], ascending = False)\n",
    "ramicane_group = ramicane_sorted.groupby('Mouse ID')\n",
    "final_ramicane_volumes = ramicane_group['Tumor Volume (mm3)'].first()\n",
    "\n",
    "# Ramicane IQR\n",
    "\n",
    "quartiles_ramicane = final_ramicane_volumes.quantile([.25,.5,.75])\n",
    "lowerq_ramicane = quartiles_ramicane[0.25]\n",
    "upperq_ramicane = quartiles_ramicane[0.75]\n",
    "iqr_ramicane = upperq_ramicane - lowerq_ramicane\n",
    "\n",
    "print('Ramicane')\n",
    "print(f\"Values below {lowerq_ramicane} could be outliers.\")\n",
    "print(f\"Values above {upperq_ramicane} could be outliers.\")"
   ]
  },
  {
   "cell_type": "code",
   "execution_count": 12,
   "metadata": {},
   "outputs": [
    {
     "name": "stdout",
     "output_type": "stream",
     "text": [
      "Infubinol\n",
      "Values below 54.04860769 could be outliers.\n",
      "Values above 65.52574285 could be outliers.\n"
     ]
    }
   ],
   "source": [
    "# Infubinol Final Volumes\n",
    "\n",
    "infubinol_regimen = total_data[total_data[\"Drug Regimen\"].isin([\"Infubinol\"])]\n",
    "infubinol_sorted = infubinol_regimen.sort_values(by=['Timepoint'], ascending = False)\n",
    "infubinol_group = infubinol_sorted.groupby('Mouse ID')\n",
    "final_infubinol_volumes = infubinol_group['Tumor Volume (mm3)'].first()\n",
    "\n",
    "# Infubinol IQR\n",
    "\n",
    "quartiles_infubinol = final_infubinol_volumes.quantile([.25,.5,.75])\n",
    "lowerq_infubinol = quartiles_infubinol[0.25]\n",
    "upperq_infubinol = quartiles_infubinol[0.75]\n",
    "iqr_infubinol = upperq_infubinol - lowerq_infubinol\n",
    "\n",
    "print('Infubinol')\n",
    "print(f\"Values below {lowerq_infubinol} could be outliers.\")\n",
    "print(f\"Values above {upperq_infubinol} could be outliers.\")"
   ]
  },
  {
   "cell_type": "code",
   "execution_count": 13,
   "metadata": {},
   "outputs": [
    {
     "name": "stdout",
     "output_type": "stream",
     "text": [
      "Ceftamin\n",
      "Values below 48.72207785 could be outliers.\n",
      "Values above 64.29983003 could be outliers.\n"
     ]
    }
   ],
   "source": [
    "# Ceftamin Final Volumes\n",
    "\n",
    "ceftamin_regimen = total_data[total_data[\"Drug Regimen\"].isin([\"Ceftamin\"])]\n",
    "ceftamin_sorted = ceftamin_regimen.sort_values(by=['Timepoint'], ascending = False)\n",
    "ceftamin_group = ceftamin_sorted.groupby('Mouse ID')\n",
    "final_ceftamin_volumes = ceftamin_group['Tumor Volume (mm3)'].first()\n",
    "\n",
    "# Ceftamin IQR\n",
    "\n",
    "quartiles_ceftamin = final_ceftamin_volumes.quantile([.25,.5,.75])\n",
    "lowerq_ceftamin = quartiles_ceftamin[0.25]\n",
    "upperq_ceftamin = quartiles_ceftamin[0.75]\n",
    "iqr_ceftamin = upperq_ceftamin - lowerq_ceftamin\n",
    "\n",
    "print('Ceftamin')\n",
    "print(f\"Values below {lowerq_ceftamin} could be outliers.\")\n",
    "print(f\"Values above {upperq_ceftamin} could be outliers.\")"
   ]
  },
  {
   "cell_type": "code",
   "execution_count": 14,
   "metadata": {},
   "outputs": [
    {
     "data": {
      "image/png": "[encoded data removed]",
      "text/plain": [
       "<Figure size 432x288 with 1 Axes>"
      ]
     },
     "metadata": {
      "needs_background": "light"
     },
     "output_type": "display_data"
    }
   ],
   "source": [
    "# Generate a box plot of the final tumor volume of each mouse across four regimens of interest\n",
    "\n",
    "labels = (\"Capomulin\", \"Ceftamin\", \"Infubinol\", \"Ramicane\")\n",
    "green_diamond = dict(markerfacecolor='g', marker='D')\n",
    "plt.boxplot([final_capomulin_volumes, \n",
    "             final_ceftamin_volumes, \n",
    "             final_infubinol_volumes,\n",
    "             final_ramicane_volumes], \n",
    "            labels = labels, flierprops=green_diamond)\n",
    "plt.title(\"Final Tumor Volume of Each Mouse by Drug Regimen\")\n",
    "plt.xlabel(\"Drug Regimen\")\n",
    "plt.ylabel(\"Final Tumor Volume (mm3)\")\n",
    "plt.show()"
   ]
  },
  {
   "cell_type": "code",
   "execution_count": 15,
   "metadata": {},
   "outputs": [
    {
     "data": {
      "image/png": "[encoded data removed]",
      "text/plain": [
       "<Figure size 432x288 with 1 Axes>"
      ]
     },
     "metadata": {
      "needs_background": "light"
     },
     "output_type": "display_data"
    }
   ],
   "source": [
    "# Generate a line plot of time point versus tumor volume for a mouse treated with Capomulin\n",
    "\n",
    "capomulin_df = total_data.loc[total_data[\"Drug Regimen\"] == 'Capomulin']\n",
    "s185 = capomulin_df.loc[capomulin_df[\"Mouse ID\"] == 's185']\n",
    "time = s185[\"Timepoint\"]\n",
    "tumor_vol = s185[\"Tumor Volume (mm3)\"]\n",
    "\n",
    "plt.title(\"Tumor Volume of Mouse s185 Over Time\")\n",
    "plt.plot(time, tumor_vol)\n",
    "plt.xlabel(\"Time (Days)\")\n",
    "plt.ylabel(\"Tumor Volume (mm3)\")\n",
    "plt.ylim(0,50)\n",
    "plt.show()"
   ]
  },
  {
   "cell_type": "code",
   "execution_count": 16,
   "metadata": {},
   "outputs": [
    {
     "name": "stdout",
     "output_type": "stream",
     "text": [
      "The Pearson coefficient is 0.93\n",
      "tumor volume = 0.88 * weight + 23.08\n"
     ]
    },
    {
     "data": {
      "image/png": "[encoded data removed]",
      "text/plain": [
       "<Figure size 432x288 with 1 Axes>"
      ]
     },
     "metadata": {
      "needs_background": "light"
     },
     "output_type": "display_data"
    }
   ],
   "source": [
    "# Generate a scatter plot of mouse weight versus average tumor volume for the Capomulin regimen\n",
    "\n",
    "capomulin_weight = capomulin_regimen['Weight (g)'].unique()\n",
    "capomulin_weight_group = capomulin_regimen.groupby('Weight (g)')\n",
    "capomulin_avg_volume = capomulin_weight_group['Tumor Volume (mm3)'].mean()\n",
    "\n",
    "plt.scatter(capomulin_weight, capomulin_avg_volume)\n",
    "plt.xlabel('Weight (g)')\n",
    "plt.ylabel('Average Tumor Volume (mm3)')\n",
    "plt.title('Average Tumor Volume by Weight of Mice on Capomulin Regimen')\n",
    "plt.ylim(30, 50)\n",
    "plt.xlim(13, 27)\n",
    "\n",
    "# Calculate the correlation coefficient and linear regression model for mouse weight and average tumor volume for the Capomulin regimen\n",
    "slope, intercept, r_value, p_value, std_err = st.linregress(capomulin_weight, capomulin_avg_volume)\n",
    "tumor_volume = slope * capomulin_weight + intercept\n",
    "\n",
    "coefficient = round(st.pearsonr(capomulin_weight, capomulin_avg_volume)[0],2)\n",
    "print(f'The Pearson coefficient is {coefficient}')\n",
    "print(\"tumor volume = \" + str(round(slope,2)) + \" * \" + \"weight + \" + str(round(intercept, 2)))\n",
    "\n",
    "plt.plot(capomulin_weight, tumor_volume, '-', color = 'r')\n",
    "plt.show()"
   ]
  },
  {
   "cell_type": "code",
   "execution_count": null,
   "metadata": {},
   "outputs": [],
   "source": []
  }
 ],
 "metadata": {
  "kernelspec": {
   "display_name": "Python 3",
   "language": "python",
   "name": "python3"
  },
  "language_info": {
   "codemirror_mode": {
    "name": "ipython",
    "version": 3
   },
   "file_extension": ".py",
   "mimetype": "text/x-python",
   "name": "python",
   "nbconvert_exporter": "python",
   "pygments_lexer": "ipython3",
   "version": "3.8.0"
  }
 },
 "nbformat": 4,
 "nbformat_minor": 2
}
